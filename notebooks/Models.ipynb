{
 "cells": [
  {
   "cell_type": "code",
   "execution_count": null,
   "metadata": {},
   "outputs": [],
   "source": [
    "# Import des différents modèles\n",
    "from sklearn.linear_model import LinearRegression\n",
    "from sklearn.tree import DecisionTreeRegressor\n",
    "from sklearn.ensemble import RandomForestRegressor\n",
    "from sklearn.svm import SVR\n",
    "\n",
    "# Sélection des cibles\n",
    "target_variables = ['TotalGHGEmissions', 'GHGEmissionsIntensity']\n",
    "X = data.drop(columns=target_variables)"
   ]
  },
  {
   "cell_type": "code",
   "execution_count": null,
   "metadata": {},
   "outputs": [],
   "source": [
    "# Initialisation des modèles\n",
    "models = {\n",
    "    \"Régression linéaire\": LinearRegression(),\n",
    "    \"Arbre de décision\": DecisionTreeRegressor(),\n",
    "    \"Forêts aléatoires\": RandomForestRegressor(),\n",
    "    \"SVR\": SVR()\n",
    "}\n",
    "\n",
    "# Entraînement et évaluation des modèles\n",
    "results = {}\n",
    "for target_variable in target_variables:\n",
    "    print(f\"Prédiction pour la variable cible : {target_variable}\\n\")\n",
    "    y = data[target_variable]\n",
    "    X_train, X_test, y_train, y_test = train_test_split(X, y, test_size=0.2, random_state=42)\n",
    "\n",
    "    results[target_variable] = {}\n",
    "    for name, model in models.items():\n",
    "        model.fit(X_train, y_train)\n",
    "        score = model.score(X_test, y_test)\n",
    "        results[target_variable][name] = score\n",
    "        print(f\"{name}: {score}\")\n",
    "    print(\"\\n\")\n",
    "\n",
    "# Affichage des résultats\n",
    "for target_variable, scores in results.items():\n",
    "    print(f\"Scores pour la variable cible : {target_variable}\")\n",
    "    for name, score in scores.items():\n",
    "        print(f\"{name}: {score}\")\n",
    "    print(\"\\n\")\n"
   ]
  }
 ],
 "metadata": {
  "language_info": {
   "name": "python"
  }
 },
 "nbformat": 4,
 "nbformat_minor": 2
}
